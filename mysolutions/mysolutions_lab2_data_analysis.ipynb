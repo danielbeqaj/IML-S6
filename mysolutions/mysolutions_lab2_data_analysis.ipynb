{
 "cells": [
  {
   "cell_type": "markdown",
   "id": "229314f5",
   "metadata": {},
   "source": [
    "# Lab2: Data analysis\n",
    "\n",
    "Throughout all the following labs, we will work on the following problem: \n",
    "\n",
    "**could AI have predicted who died and who survived the Titanic disaster ?**\n",
    "\n",
    "We will begin by analyzing it using `pandas` and plot the data using `matplotlib` and `seaborn`."
   ]
  },
  {
   "cell_type": "code",
   "execution_count": 1,
   "id": "e283d079",
   "metadata": {},
   "outputs": [
    {
     "name": "stdout",
     "output_type": "stream",
     "text": [
      "Defaulting to user installation because normal site-packages is not writeable\n",
      "Requirement already satisfied: seaborn in /home/daniel/.local/lib/python3.10/site-packages (0.12.2)\n",
      "Requirement already satisfied: pandas>=0.25 in /home/daniel/.local/lib/python3.10/site-packages (from seaborn) (1.5.3)\n",
      "Requirement already satisfied: numpy!=1.24.0,>=1.17 in /home/daniel/.local/lib/python3.10/site-packages (from seaborn) (1.24.1)\n",
      "Requirement already satisfied: matplotlib!=3.6.1,>=3.1 in /home/daniel/.local/lib/python3.10/site-packages (from seaborn) (3.6.3)\n",
      "Requirement already satisfied: pyparsing>=2.2.1 in /usr/lib/python3/dist-packages (from matplotlib!=3.6.1,>=3.1->seaborn) (2.4.7)\n",
      "Requirement already satisfied: contourpy>=1.0.1 in /home/daniel/.local/lib/python3.10/site-packages (from matplotlib!=3.6.1,>=3.1->seaborn) (1.0.7)\n",
      "Requirement already satisfied: python-dateutil>=2.7 in /home/daniel/.local/lib/python3.10/site-packages (from matplotlib!=3.6.1,>=3.1->seaborn) (2.8.2)\n",
      "Requirement already satisfied: cycler>=0.10 in /home/daniel/.local/lib/python3.10/site-packages (from matplotlib!=3.6.1,>=3.1->seaborn) (0.11.0)\n",
      "Requirement already satisfied: fonttools>=4.22.0 in /home/daniel/.local/lib/python3.10/site-packages (from matplotlib!=3.6.1,>=3.1->seaborn) (4.38.0)\n",
      "Requirement already satisfied: kiwisolver>=1.0.1 in /home/daniel/.local/lib/python3.10/site-packages (from matplotlib!=3.6.1,>=3.1->seaborn) (1.4.4)\n",
      "Requirement already satisfied: packaging>=20.0 in /home/daniel/.local/lib/python3.10/site-packages (from matplotlib!=3.6.1,>=3.1->seaborn) (23.0)\n",
      "Requirement already satisfied: pillow>=6.2.0 in /usr/lib/python3/dist-packages (from matplotlib!=3.6.1,>=3.1->seaborn) (9.0.1)\n",
      "Requirement already satisfied: pytz>=2020.1 in /usr/lib/python3/dist-packages (from pandas>=0.25->seaborn) (2022.1)\n",
      "Requirement already satisfied: six>=1.5 in /usr/lib/python3/dist-packages (from python-dateutil>=2.7->matplotlib!=3.6.1,>=3.1->seaborn) (1.16.0)\n",
      "Note: you may need to restart the kernel to use updated packages.\n"
     ]
    }
   ],
   "source": [
    "pip install seaborn"
   ]
  },
  {
   "cell_type": "code",
   "execution_count": 2,
   "id": "8d8b6bc6",
   "metadata": {},
   "outputs": [],
   "source": [
    "from matplotlib import pyplot as plt\n",
    "import pandas as pd\n",
    "import seaborn as sns"
   ]
  },
  {
   "cell_type": "markdown",
   "id": "56386563",
   "metadata": {},
   "source": [
    "## Load dataset\n",
    "The dataset is available in its `csv` format."
   ]
  },
  {
   "cell_type": "code",
   "execution_count": 3,
   "id": "33e02d50",
   "metadata": {},
   "outputs": [
    {
     "data": {
      "text/plain": [
       "(891, 12)"
      ]
     },
     "execution_count": 3,
     "metadata": {},
     "output_type": "execute_result"
    }
   ],
   "source": [
    "df = pd.read_csv(\"../titanic.csv\")\n",
    "df.shape"
   ]
  },
  {
   "cell_type": "markdown",
   "id": "51f88f87",
   "metadata": {},
   "source": [
    "## Identify rows and columns\n",
    "1. Find the number of rows and the number of columns"
   ]
  },
  {
   "cell_type": "code",
   "execution_count": 4,
   "id": "f2eb3fbd",
   "metadata": {
    "scrolled": false
   },
   "outputs": [
    {
     "name": "stdout",
     "output_type": "stream",
     "text": [
      "Number of rows : 891\n",
      "Number of columns : 12\n"
     ]
    }
   ],
   "source": [
    "print(\"Number of rows : \"+str(len(df)))  #df.shape[0]\n",
    "print(\"Number of columns : \" + str(len(df.columns))) #df.shape[1]"
   ]
  },
  {
   "cell_type": "markdown",
   "id": "b61ff153",
   "metadata": {},
   "source": [
    "2. List every column name and give a brief description of the data"
   ]
  },
  {
   "cell_type": "code",
   "execution_count": 5,
   "id": "c530b1d2",
   "metadata": {},
   "outputs": [
    {
     "name": "stdout",
     "output_type": "stream",
     "text": [
      "0.PassengerId : the passenger id\n",
      "1.Survived : 1 if the passenger survived Titanic and 0 if not\n",
      "2.Pclass : the passanger's class\n",
      "3.Name : the passanger's name\n",
      "4.Sex : male or female\n",
      "5.Age : the passanger's age\n",
      "6.SibSp : \n",
      "7.Parch : \n",
      "8.Ticket : \n",
      "9.Fare : \n",
      "10.Cabin : \n",
      "11.Embarked : \n"
     ]
    }
   ],
   "source": [
    "for i in range(len(df.columns)):\n",
    "    description = \"\"\n",
    "    if i == 0:\n",
    "        description = \"the passenger id\"\n",
    "    elif i==1:\n",
    "        description = \"1 if the passenger survived Titanic and 0 if not\"\n",
    "    elif i==2:\n",
    "        description = \"the passanger's class\"\n",
    "    elif i==3:\n",
    "        description = \"the passanger's name\"\n",
    "    elif i==4:\n",
    "        description = \"male or female\"\n",
    "    elif i==5:\n",
    "        description = \"the passanger's age\"\n",
    "    print(str(i)+\".\"+df.columns[i]+\" : \"+description)"
   ]
  },
  {
   "cell_type": "code",
   "execution_count": 6,
   "id": "eb388221",
   "metadata": {
    "scrolled": true
   },
   "outputs": [
    {
     "name": "stdout",
     "output_type": "stream",
     "text": [
      "0\n"
     ]
    }
   ],
   "source": [
    "print(df.iloc[0].Survived) #the value of survived for passanger 0+1"
   ]
  },
  {
   "cell_type": "code",
   "execution_count": 7,
   "id": "4e03f0dd",
   "metadata": {
    "scrolled": true
   },
   "outputs": [
    {
     "name": "stdout",
     "output_type": "stream",
     "text": [
      "0        1\n",
      "1        2\n",
      "2        3\n",
      "3        4\n",
      "4        5\n",
      "      ... \n",
      "886    887\n",
      "887    888\n",
      "888    889\n",
      "889    890\n",
      "890    891\n",
      "Name: PassengerId, Length: 891, dtype: int64\n"
     ]
    }
   ],
   "source": [
    "print(df[\"PassengerId\"]) #selecting a column"
   ]
  },
  {
   "cell_type": "markdown",
   "id": "7ef65902",
   "metadata": {},
   "source": [
    "3. Specify for each column the data type and create a list `quantitative_vars` that will contain the names of the quantitative variables and `qualitative_vars` that will contain the names of the qualitative variables."
   ]
  },
  {
   "cell_type": "markdown",
   "id": "e8399a4f",
   "metadata": {},
   "source": [
    "(MyNote) Pandas' DataFrame documentation: https://pandas.pydata.org/docs/reference/api/pandas.DataFrame.html"
   ]
  },
  {
   "cell_type": "code",
   "execution_count": 8,
   "id": "2ba9f748",
   "metadata": {},
   "outputs": [
    {
     "name": "stdout",
     "output_type": "stream",
     "text": [
      "PassengerId      int64\n",
      "Survived         int64\n",
      "Pclass           int64\n",
      "Name            object\n",
      "Sex             object\n",
      "Age            float64\n",
      "SibSp            int64\n",
      "Parch            int64\n",
      "Ticket          object\n",
      "Fare           float64\n",
      "Cabin           object\n",
      "Embarked        object\n",
      "dtype: object\n"
     ]
    }
   ],
   "source": [
    "data_types = df.dtypes\n",
    "print(data_types)"
   ]
  },
  {
   "cell_type": "code",
   "execution_count": 25,
   "id": "5287b1e6",
   "metadata": {},
   "outputs": [
    {
     "name": "stdout",
     "output_type": "stream",
     "text": [
      "['Age', 'Fare', 'SibSp', 'Parch']\n",
      "['PassengerId', 'Survived', 'Pclass', 'Name', 'Sex', 'Age', 'Ticket', 'Cabin', 'Embarked']\n"
     ]
    }
   ],
   "source": [
    "quantitative_vars = [\"Age\",\"Fare\",\"SibSp\",\"Parch\"]\n",
    "qualitative_vars = [x for x in df.columns if x not in qualitative_vars]\n",
    "print(quantitative_vars)\n",
    "print(qualitative_vars)"
   ]
  },
  {
   "cell_type": "markdown",
   "id": "ab050358",
   "metadata": {},
   "source": [
    "4. What column are we trying to predict ? Store it into a list `target`."
   ]
  },
  {
   "cell_type": "code",
   "execution_count": 26,
   "id": "bc5bba85",
   "metadata": {},
   "outputs": [
    {
     "name": "stdout",
     "output_type": "stream",
     "text": [
      "0      0\n",
      "1      1\n",
      "2      1\n",
      "3      1\n",
      "4      0\n",
      "      ..\n",
      "886    0\n",
      "887    1\n",
      "888    0\n",
      "889    1\n",
      "890    0\n",
      "Name: Survived, Length: 891, dtype: int64\n"
     ]
    }
   ],
   "source": [
    "target = df[\"Survived\"]\n",
    "print(target)"
   ]
  },
  {
   "cell_type": "markdown",
   "id": "51b978b4",
   "metadata": {},
   "source": [
    "5. Infer what columns will be used for prediction and what column you can omit immediately. Create the corresponding list `features` and update `quantitative_vars` and `qualitative_vars`."
   ]
  },
  {
   "cell_type": "code",
   "execution_count": 27,
   "id": "6efd631f",
   "metadata": {},
   "outputs": [
    {
     "name": "stdout",
     "output_type": "stream",
     "text": [
      "['Survived', 'Pclass', 'Sex', 'Age', 'Ticket', 'Cabin', 'Embarked']\n",
      "['Age', 'Fare', 'SibSp', 'Parch']\n"
     ]
    }
   ],
   "source": [
    "drop_cols = [\"PassengerId\",\"Name\"]\n",
    "def remove_if_not_in(array,variables_to_remove):\n",
    "    for val in array:\n",
    "        if val in variables_to_remove:\n",
    "            array.remove(val)\n",
    "    return array\n",
    "print(remove_if_not_in(qualitative_vars,drop_cols))\n",
    "print(remove_if_not_in(quantitative_vars,drop_cols))"
   ]
  },
  {
   "cell_type": "markdown",
   "id": "ba1b8e78",
   "metadata": {},
   "source": [
    "6. Give the repartition of the target to predict using the `value_counts` method. How many people died in the Titanic disaster ? How many survived ?"
   ]
  },
  {
   "cell_type": "code",
   "execution_count": 28,
   "id": "69272e95",
   "metadata": {},
   "outputs": [
    {
     "name": "stdout",
     "output_type": "stream",
     "text": [
      "0    549\n",
      "1    342\n",
      "Name: Survived, dtype: int64\n"
     ]
    }
   ],
   "source": [
    "print(target.value_counts())"
   ]
  },
  {
   "cell_type": "markdown",
   "id": "d912d2af",
   "metadata": {},
   "source": [
    "## Univariate analysis"
   ]
  },
  {
   "cell_type": "markdown",
   "id": "020fa73f",
   "metadata": {},
   "source": [
    "1. For each **quantitative variables** (that you should have stored in the variable `quantitative_vars`), give the main statistical estimators: mean, median, standard error.\n",
    "\n"
   ]
  },
  {
   "cell_type": "code",
   "execution_count": 36,
   "id": "05d70e0c",
   "metadata": {},
   "outputs": [
    {
     "name": "stdout",
     "output_type": "stream",
     "text": [
      "              Age        Fare       SibSp       Parch\n",
      "count  714.000000  891.000000  891.000000  891.000000\n",
      "mean    29.699118   32.204208    0.523008    0.381594\n",
      "std     14.526497   49.693429    1.102743    0.806057\n",
      "min      0.420000    0.000000    0.000000    0.000000\n",
      "25%     20.125000    7.910400    0.000000    0.000000\n",
      "50%     28.000000   14.454200    0.000000    0.000000\n",
      "75%     38.000000   31.000000    1.000000    0.000000\n",
      "max     80.000000  512.329200    8.000000    6.000000\n"
     ]
    }
   ],
   "source": [
    "print(df[quantitative_vars].describe())"
   ]
  },
  {
   "cell_type": "markdown",
   "id": "025e503e",
   "metadata": {},
   "source": [
    "\n",
    "\n",
    "2. For each **quantitative variables** (that you should have stored in the variable `quantitative_vars`), plot the variable repartitions using `sns.histplot` and `sns.violinplot`. Deduce for each variable a possible distribution.\n",
    "\n"
   ]
  },
  {
   "cell_type": "code",
   "execution_count": 30,
   "id": "0f71ca5b",
   "metadata": {},
   "outputs": [
    {
     "data": {
      "image/png": "[encoded data removed]",
      "text/plain": [
       "<Figure size 640x480 with 4 Axes>"
      ]
     },
     "metadata": {},
     "output_type": "display_data"
    }
   ],
   "source": [
    "fig, axes = plt.subplots(len(quantitative_vars))\n",
    "fig.suptitle('figures')\n",
    "\n",
    "for variable in quantitative_vars:\n",
    "    sns.histplot(ax=axes[0], data= df[variable])"
   ]
  },
  {
   "cell_type": "markdown",
   "id": "b23e0254",
   "metadata": {},
   "source": [
    "3. For each **qualitative variables** (that you should have stored in the variable `qualititative_vars`), provide the different values that can be taken by the variable and count the number of individuals per category."
   ]
  },
  {
   "cell_type": "code",
   "execution_count": 31,
   "id": "b27e6ffa",
   "metadata": {},
   "outputs": [],
   "source": [
    "def return_list_different_values(array):\n",
    "    different_values=[]\n",
    "    for value in array:\n",
    "        if value not in different_values:\n",
    "            different_values.append(value)\n",
    "    return different_values"
   ]
  },
  {
   "cell_type": "code",
   "execution_count": 32,
   "id": "bcc4e572",
   "metadata": {},
   "outputs": [
    {
     "data": {
      "text/plain": [
       "['male', 'female']"
      ]
     },
     "execution_count": 32,
     "metadata": {},
     "output_type": "execute_result"
    }
   ],
   "source": [
    "return_list_different_values(df[\"Sex\"].values)"
   ]
  },
  {
   "cell_type": "code",
   "execution_count": 35,
   "id": "326cc929",
   "metadata": {},
   "outputs": [
    {
     "name": "stdout",
     "output_type": "stream",
     "text": [
      "Values for Survived :[0, 1]\n",
      ".................\n",
      "Values for Pclass :[3, 1, 2]\n",
      ".................\n",
      "Values for Sex :['male', 'female']\n",
      ".................\n",
      "Values for Age :[22.0, 38.0, 26.0, 35.0, nan, 54.0, 2.0, 27.0, 14.0, 4.0, 58.0, 20.0, 39.0, 55.0, nan, 31.0, nan, 34.0, 15.0, 28.0, 8.0, nan, 19.0, nan, nan, 40.0, nan, nan, 66.0, 42.0, nan, 21.0, 18.0, nan, 3.0, nan, nan, nan, nan, 7.0, 49.0, 29.0, 65.0, nan, 28.5, 5.0, 11.0, 45.0, nan, nan, 17.0, 32.0, 16.0, 25.0, nan, nan, 0.83, 30.0, nan, 33.0, nan, 23.0, 24.0, 46.0, 59.0, nan, 71.0, nan, 37.0, nan, nan, 47.0, 14.5, 70.5, nan, 32.5, 12.0, nan, nan, nan, 9.0, 36.5, 51.0, 55.5, 40.5, nan, nan, nan, 44.0, 1.0, nan, nan, 61.0, 56.0, nan, 50.0, 36.0, nan, nan, nan, nan, nan, nan, nan, 45.5, nan, nan, 20.5, nan, nan, nan, nan, nan, 62.0, 41.0, nan, nan, 52.0, nan, nan, nan, 63.0, nan, nan, nan, 23.5, nan, nan, nan, nan, nan, 0.92, nan, 43.0, nan, nan, nan, nan, nan, nan, nan, nan, nan, nan, 60.0, nan, nan, nan, nan, nan, nan, nan, nan, nan, nan, 10.0, nan, nan, nan, nan, 64.0, nan, 13.0, nan, nan, nan, nan, 48.0, nan, nan, nan, 0.75, nan, nan, nan, nan, nan, nan, nan, nan, nan, nan, nan, nan, nan, nan, nan, nan, nan, nan, nan, nan, nan, nan, nan, nan, 53.0, nan, nan, nan, nan, nan, nan, nan, nan, nan, nan, nan, nan, 57.0, nan, 80.0, nan, nan, nan, nan, nan, nan, nan, nan, nan, 70.0, nan, 24.5, nan, nan, nan, nan, nan, nan, 6.0, nan, nan, nan, nan, nan, 0.67, nan, nan, 30.5, nan, nan, nan, nan, nan, nan, nan, nan, 0.42, nan, nan, nan, nan, nan, nan, nan, 34.5, nan, nan, 74.0, nan, nan, nan, nan, nan]\n",
      ".................\n",
      "Values for Ticket :['A/5 21171', 'PC 17599', 'STON/O2. 3101282', '113803', '373450', '330877', '17463', '349909', '347742', '237736', 'PP 9549', '113783', 'A/5. 2151', '347082', '350406', '248706', '382652', '244373', '345763', '2649', '239865', '248698', '330923', '113788', '347077', '2631', '19950', '330959', '349216', 'PC 17601', 'PC 17569', '335677', 'C.A. 24579', 'PC 17604', '113789', '2677', 'A./5. 2152', '345764', '2651', '7546', '11668', '349253', 'SC/Paris 2123', '330958', 'S.C./A.4. 23567', '370371', '14311', '2662', '349237', '3101295', 'A/4. 39886', 'PC 17572', '2926', '113509', '19947', 'C.A. 31026', '2697', 'C.A. 34651', 'CA 2144', '2669', '113572', '36973', '347088', 'PC 17605', '2661', 'C.A. 29395', 'S.P. 3464', '3101281', '315151', 'C.A. 33111', 'S.O.C. 14879', '2680', '1601', '348123', '349208', '374746', '248738', '364516', '345767', '345779', '330932', '113059', 'SO/C 14885', '3101278', 'W./C. 6608', 'SOTON/OQ 392086', '343275', '343276', '347466', 'W.E.P. 5734', 'C.A. 2315', '364500', '374910', 'PC 17754', 'PC 17759', '231919', '244367', '349245', '349215', '35281', '7540', '3101276', '349207', '343120', '312991', '349249', '371110', '110465', '2665', '324669', '4136', '2627', 'STON/O 2. 3101294', '370369', 'PC 17558', 'A4. 54510', '27267', '370372', 'C 17369', '2668', '347061', '349241', 'SOTON/O.Q. 3101307', 'A/5. 3337', '228414', 'C.A. 29178', 'SC/PARIS 2133', '11752', '7534', 'PC 17593', '2678', '347081', 'STON/O2. 3101279', '365222', '231945', 'C.A. 33112', '350043', '230080', '244310', 'S.O.P. 1166', '113776', 'A.5. 11206', 'A/5. 851', 'Fa 265302', 'PC 17597', '35851', 'SOTON/OQ 392090', '315037', 'CA. 2343', '371362', 'C.A. 33595', '347068', '315093', '363291', '113505', 'PC 17318', '111240', 'STON/O 2. 3101280', '17764', '350404', '4133', 'PC 17595', '250653', 'LINE', 'SC/PARIS 2131', '230136', '315153', '113767', '370365', '111428', '364849', '349247', '234604', '28424', '350046', 'PC 17610', '368703', '4579', '370370', '248747', '345770', '3101264', '2628', 'A/5 3540', '347054', '2699', '367231', '112277', 'SOTON/O.Q. 3101311', 'F.C.C. 13528', 'A/5 21174', '250646', '367229', '35273', 'STON/O2. 3101283', '243847', '11813', 'W/C 14208', 'SOTON/OQ 392089', '220367', '21440', '349234', '19943', 'PP 4348', 'SW/PP 751', 'A/5 21173', '236171', '347067', '237442', 'C.A. 29566', 'W./C. 6609', '26707', 'C.A. 31921', '28665', 'SCO/W 1585', '367230', 'W./C. 14263', 'STON/O 2. 3101275', '2694', '19928', '347071', '250649', '11751', '244252', '362316', '113514', 'A/5. 3336', '370129', '2650', 'PC 17585', '110152', 'PC 17755', '230433', '384461', '110413', '112059', '382649', 'C.A. 17248', '347083', 'PC 17582', 'PC 17760', '113798', '250644', 'PC 17596', '370375', '13502', '347073', '239853', 'C.A. 2673', '336439', '347464', '345778', 'A/5. 10482', '113056', '349239', '345774', '349206', '237798', '370373', '19877', '11967', 'SC/Paris 2163', '349236', '349233', 'PC 17612', '2693', '113781', '19988', '9234', '367226', '226593', 'A/5 2466', '17421', 'PC 17758', 'P/PP 3381', 'PC 17485', '11767', 'PC 17608', '250651', '349243', 'F.C.C. 13529', '347470', '29011', '36928', '16966', 'A/5 21172', '349219', '234818', '345364', '28551', '111361', '113043', 'PC 17611', '349225', '7598', '113784', '248740', '244361', '229236', '248733', '31418', '386525', 'C.A. 37671', '315088', '7267', '113510', '2695', '2647', '345783', '237671', '330931', '330980', 'SC/PARIS 2167', '2691', 'SOTON/O.Q. 3101310', 'C 7076', '110813', '2626', '14313', 'PC 17477', '11765', '3101267', '323951', 'C 7077', '113503', '2648', '347069', 'PC 17757', '2653', 'STON/O 2. 3101293', '349227', '27849', '367655', 'SC 1748', '113760', '350034', '3101277', '350052', '350407', '28403', '244278', '240929', 'STON/O 2. 3101289', '341826', '4137', '315096', '28664', '347064', '29106', '312992', '349222', '394140', 'STON/O 2. 3101269', '343095', '28220', '250652', '28228', '345773', '349254', 'A/5. 13032', '315082', '347080', 'A/4. 34244', '2003', '250655', '364851', 'SOTON/O.Q. 392078', '110564', '376564', 'SC/AH 3085', 'STON/O 2. 3101274', '13507', 'C.A. 18723', '345769', '347076', '230434', '65306', '33638', '113794', '2666', '113786', '65303', '113051', '17453', 'A/5 2817', '349240', '13509', '17464', 'F.C.C. 13531', '371060', '19952', '364506', '111320', '234360', 'A/S 2816', 'SOTON/O.Q. 3101306', '113792', '36209', '323592', '315089', 'SC/AH Basle 541', '7553', '31027', '3460', '350060', '3101298', '239854', 'A/5 3594', '4134', '11771', 'A.5. 18509', '65304', 'SOTON/OQ 3101317', '113787', 'PC 17609', 'A/4 45380', '36947', 'C.A. 6212', '350035', '315086', '364846', '330909', '4135', '26360', '111427', 'C 4001', '382651', 'SOTON/OQ 3101316', 'PC 17473', 'PC 17603', '349209', '36967', 'C.A. 34260', '226875', '349242', '12749', '349252', '2624', '2700', '367232', 'W./C. 14258', 'PC 17483', '3101296', '29104', '2641', '2690', '315084', '113050', 'PC 17761', '364498', '13568', 'WE/P 5735', '2908', '693', 'SC/PARIS 2146', '244358', '330979', '2620', '347085', '113807', '11755', '345572', '372622', '349251', '218629', 'SOTON/OQ 392082', 'SOTON/O.Q. 392087', 'A/4 48871', '349205', '2686', '350417', 'S.W./PP 752', '11769', 'PC 17474', '14312', 'A/4. 20589', '358585', '243880', '2689', 'STON/O 2. 3101286', '237789', '13049', '3411', '237565', '13567', '14973', 'A./5. 3235', 'STON/O 2. 3101273', 'A/5 3902', '364848', 'SC/AH 29037', '248727', '2664', '349214', '113796', '364511', '111426', '349910', '349246', '113804', 'SOTON/O.Q. 3101305', '370377', '364512', '220845', '31028', '2659', '11753', '350029', '54636', '36963', '219533', '349224', '334912', '27042', '347743', '13214', '112052', '237668', 'STON/O 2. 3101292', '350050', '349231', '13213', 'S.O./P.P. 751', 'CA. 2314', '349221', '8475', '330919', '365226', '349223', '29751', '2623', '5727', '349210', 'STON/O 2. 3101285', '234686', '312993', 'A/5 3536', '19996', '29750', 'F.C. 12750', 'C.A. 24580', '244270', '239856', '349912', '342826', '4138', '330935', '6563', '349228', '350036', '24160', '17474', '349256', '2672', '113800', '248731', '363592', '35852', '348121', 'PC 17475', '36864', '350025', '223596', 'PC 17476', 'PC 17482', '113028', '7545', '250647', '348124', '34218', '36568', '347062', '350048', '12233', '250643', '113806', '315094', '36866', '236853', 'STON/O2. 3101271', '239855', '28425', '233639', '349201', '349218', '16988', '376566', 'STON/O 2. 3101288', '250648', '113773', '335097', '29103', '392096', '345780', '349204', '350042', '29108', '363294', 'SOTON/O2 3101272', '2663', '347074', '112379', '364850', '8471', '345781', '350047', 'S.O./P.P. 3', '2674', '29105', '347078', '383121', '36865', '2687', '113501', 'W./C. 6607', 'SOTON/O.Q. 3101312', '374887', '3101265', '12460', 'PC 17600', '349203', '28213', '17465', '349244', '2685', '2625', '347089', '347063', '112050', '347087', '248723', '3474', '28206', '364499', '112058', 'STON/O2. 3101290', 'S.C./PARIS 2079', 'C 7075', '315098', '19972', '368323', '367228', '2671', '347468', '2223', 'PC 17756', '315097', '392092', '11774', 'SOTON/O2 3101287', '2683', '315090', 'C.A. 5547', '349213', '347060', 'PC 17592', '392091', '113055', '2629', '350026', '28134', '17466', '233866', '236852', 'SC/PARIS 2149', 'PC 17590', '345777', '349248', '695', '345765', '2667', '349212', '349217', '349257', '7552', 'C.A./SOTON 34068', 'SOTON/OQ 392076', '211536', '112053', '111369', '370376']\n",
      ".................\n",
      "Values for Cabin :[nan, 'C85', 'C123', 'E46', 'G6', 'C103', 'D56', 'A6', 'C23 C25 C27', 'B78', 'D33', 'B30', 'C52', 'B28', 'C83', 'F33', 'F G73', 'E31', 'A5', 'D10 D12', 'D26', 'C110', 'B58 B60', 'E101', 'F E69', 'D47', 'B86', 'F2', 'C2', 'E33', 'B19', 'A7', 'C49', 'F4', 'A32', 'B4', 'B80', 'A31', 'D36', 'D15', 'C93', 'C78', 'D35', 'C87', 'B77', 'E67', 'B94', 'C125', 'C99', 'C118', 'D7', 'A19', 'B49', 'D', 'C22 C26', 'C106', 'C65', 'E36', 'C54', 'B57 B59 B63 B66', 'C7', 'E34', 'C32', 'B18', 'C124', 'C91', 'E40', 'T', 'C128', 'D37', 'B35', 'E50', 'C82', 'B96 B98', 'E10', 'E44', 'A34', 'C104', 'C111', 'C92', 'E38', 'D21', 'E12', 'E63', 'A14', 'B37', 'C30', 'D20', 'B79', 'E25', 'D46', 'B73', 'C95', 'B38', 'B39', 'B22', 'C86', 'C70', 'A16', 'C101', 'C68', 'A10', 'E68', 'B41', 'A20', 'D19', 'D50', 'D9', 'A23', 'B50', 'A26', 'D48', 'E58', 'C126', 'B71', 'B51 B53 B55', 'D49', 'B5', 'B20', 'F G63', 'C62 C64', 'E24', 'C90', 'C45', 'E8', 'B101', 'D45', 'C46', 'D30', 'E121', 'D11', 'E77', 'F38', 'B3', 'D6', 'B82 B84', 'D17', 'A36', 'B102', 'B69', 'E49', 'C47', 'D28', 'E17', 'A24', 'C50', 'B42', 'C148']\n",
      ".................\n",
      "Values for Embarked :['S', 'C', 'Q', nan]\n",
      ".................\n"
     ]
    }
   ],
   "source": [
    "for variable in qualitative_vars:\n",
    "    print(\"Values for \"+variable+\" :\"+str(return_list_different_values(df[variable].values)))\n",
    "    print(\".................\")"
   ]
  },
  {
   "cell_type": "markdown",
   "id": "9c902c3a",
   "metadata": {},
   "source": [
    "## Multivariate analysis"
   ]
  },
  {
   "cell_type": "markdown",
   "id": "f64e2bca",
   "metadata": {},
   "source": [
    "### Correlation of variables"
   ]
  },
  {
   "cell_type": "markdown",
   "id": "a468a4f3",
   "metadata": {},
   "source": [
    "1] Using the `.corr()` method, find and analyze correlations between features. What can you deduce regarding the use of these two dependent features ?"
   ]
  },
  {
   "cell_type": "markdown",
   "id": "e4e39d34",
   "metadata": {},
   "source": [
    "2] Plot the correlogram and perform a quick analysis of relationship between qualitative variables using `sns.pairplot`. Understand graph per graph what is represented and deduce from it the relationship between features and what feature seems to be important for prediction."
   ]
  },
  {
   "cell_type": "markdown",
   "id": "d741b20a",
   "metadata": {},
   "source": [
    "### Impact of variables/features on target\n",
    "\n",
    "The goal of our study is to **predict the target Survived**, so we need to analyze the relationship between this target and the features."
   ]
  },
  {
   "cell_type": "markdown",
   "id": "75c839f6",
   "metadata": {},
   "source": [
    "1] Find the statistical repartition of **quantitative variables** (that you should have stored in the variable `quantitative_vars`) for survivors and non-survivors and plot it using `sns.boxplot()`. "
   ]
  },
  {
   "cell_type": "markdown",
   "id": "fabe7cb1",
   "metadata": {},
   "source": [
    "2] Find the statistical repartition of survivors for each **categorical variable** (that you should have stored in the variable `qualitative_vars`) and plot it using the `sns.barplot()` function."
   ]
  },
  {
   "cell_type": "markdown",
   "id": "fc49e84f",
   "metadata": {},
   "source": [
    "## Dealing with missing values"
   ]
  },
  {
   "cell_type": "markdown",
   "id": "8b17b74e",
   "metadata": {},
   "source": [
    "1. Have you noticed anything in particular with missing values ? "
   ]
  },
  {
   "cell_type": "markdown",
   "id": "ac766a3a",
   "metadata": {},
   "source": [
    "2. Find rows with missing values using the `df.isna()` method and perform a statistical analysis on the number of missing values."
   ]
  },
  {
   "cell_type": "code",
   "execution_count": 34,
   "id": "ab07bf73",
   "metadata": {},
   "outputs": [
    {
     "name": "stdout",
     "output_type": "stream",
     "text": [
      "Number of passengers with missing age: 177\n"
     ]
    }
   ],
   "source": [
    "print(f\"Number of passengers with missing age: {df[df.Age.isnull()].shape[0]}\")"
   ]
  },
  {
   "cell_type": "markdown",
   "id": "445a4096",
   "metadata": {},
   "source": [
    "3. Suggest possible ways to deal with missing values and apply it to the data."
   ]
  },
  {
   "cell_type": "markdown",
   "id": "1633d50d",
   "metadata": {},
   "source": [
    "## Conclusions and next steps"
   ]
  },
  {
   "cell_type": "markdown",
   "id": "7d71e531",
   "metadata": {},
   "source": [
    "1. What seems to be the most impacting features in the dataset to predict who survived ?\n",
    "\n",
    "\n",
    "2. Do you think some metrics could be removed from the dataset without information loss ?\n",
    "\n",
    "\n",
    "3. Store this new dataset into a csv file `titanic_pre_processed.csv` (using the `to_csv` method) and save it for the next lab."
   ]
  }
 ],
 "metadata": {
  "kernelspec": {
   "display_name": "Python 3 (ipykernel)",
   "language": "python",
   "name": "python3"
  },
  "language_info": {
   "codemirror_mode": {
    "name": "ipython",
    "version": 3
   },
   "file_extension": ".py",
   "mimetype": "text/x-python",
   "name": "python",
   "nbconvert_exporter": "python",
   "pygments_lexer": "ipython3",
   "version": "3.10.6"
  }
 },
 "nbformat": 4,
 "nbformat_minor": 5
}
